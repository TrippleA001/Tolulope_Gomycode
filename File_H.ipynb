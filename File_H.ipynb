{
  "nbformat": 4,
  "nbformat_minor": 0,
  "metadata": {
    "colab": {
      "provenance": [],
      "authorship_tag": "ABX9TyPENlDp30FvT49v8PUS2vln",
      "include_colab_link": true
    },
    "kernelspec": {
      "name": "python3",
      "display_name": "Python 3"
    },
    "language_info": {
      "name": "python"
    }
  },
  "cells": [
    {
      "cell_type": "markdown",
      "metadata": {
        "id": "view-in-github",
        "colab_type": "text"
      },
      "source": [
        "<a href=\"https://colab.research.google.com/github/ToluSh/Classwork/blob/main/File_H.ipynb\" target=\"_parent\"><img src=\"https://colab.research.google.com/assets/colab-badge.svg\" alt=\"Open In Colab\"/></a>"
      ]
    },
    {
      "cell_type": "code",
      "execution_count": 34,
      "metadata": {
        "colab": {
          "base_uri": "https://localhost:8080/",
          "height": 140
        },
        "id": "TPi-40FdeRJn",
        "outputId": "603c55c4-eedb-4b10-9647-b55ee0d469b8"
      },
      "outputs": [
        {
          "output_type": "execute_result",
          "data": {
            "text/plain": [
              "'What is Python language?                                                \\nPython is a widely used high-level, general-purpose, interpreted, dynamic programming language.Its design philosophy emphasizes code readability, and its syntax allows programmers to express concepts in fewer lines of code than possible in \\nlanguages such as C++ or Java. \\nPython supports multiple programming paradigms, including object-oriented, imperative and functional programming or procedural styles. It features a dynamic type system and automatic memory management and has a large and comprehensive standard library.The best way we learn anything is by practice and exercise questions. We  have started this section for those (beginner to intermediate) who are familiar with Python.'"
            ],
            "application/vnd.google.colaboratory.intrinsic+json": {
              "type": "string"
            }
          },
          "metadata": {},
          "execution_count": 34
        }
      ],
      "source": [
        "file_read = open(\"python.txt\", 'r', encoding = 'utf-8')\n",
        "file_read.read()\n"
      ]
    },
    {
      "cell_type": "code",
      "source": [
        "file_read = open(\"python.txt\", 'r', encoding = 'utf-8')\n",
        "\n",
        "N = int(input(\"no of lines:\"))\n",
        "lines = file_read.readlines()\n",
        "for text in (lines[:N]):\n",
        "    print(text, end='')"
      ],
      "metadata": {
        "colab": {
          "base_uri": "https://localhost:8080/"
        },
        "id": "dEcagCbliBUy",
        "outputId": "f7fbee9a-e3eb-4f5d-a230-ef1c704387f0"
      },
      "execution_count": 40,
      "outputs": [
        {
          "output_type": "stream",
          "name": "stdout",
          "text": [
            "no of lines:2\n",
            "What is Python language?                                                \n",
            "Python is a widely used high-level, general-purpose, interpreted, dynamic programming language.Its design philosophy emphasizes code readability, and its syntax allows programmers to express concepts in fewer lines of code than possible in \n"
          ]
        }
      ]
    },
    {
      "cell_type": "code",
      "source": [
        "\n",
        "N = int(input(\"nos of lines:\"))\n",
        "file_read = open(\"python.txt\", 'r', encoding = 'utf-8')\n",
        "line = file_read.readlines()\n",
        "for txt in (line[-N:]):\n",
        "    print(txt, end='')"
      ],
      "metadata": {
        "colab": {
          "base_uri": "https://localhost:8080/"
        },
        "id": "iLbJz0sPqenN",
        "outputId": "1e1af91a-da69-4d24-f589-d482d923254a"
      },
      "execution_count": 42,
      "outputs": [
        {
          "output_type": "stream",
          "name": "stdout",
          "text": [
            "nos of lines:2\n",
            "languages such as C++ or Java. \n",
            "Python supports multiple programming paradigms, including object-oriented, imperative and functional programming or procedural styles. It features a dynamic type system and automatic memory management and has a large and comprehensive standard library.The best way we learn anything is by practice and exercise questions. We  have started this section for those (beginner to intermediate) who are familiar with Python."
          ]
        }
      ]
    },
    {
      "cell_type": "code",
      "source": [
        "file_read = open(\"python.txt\", 'r', encoding = 'utf-8')\n",
        "x = file_read.read()\n",
        "#x.replace(\",\", \" \")\n",
        "y = x.split()\n",
        "print(len(y))"
      ],
      "metadata": {
        "colab": {
          "base_uri": "https://localhost:8080/"
        },
        "id": "o6k9uLbWizSK",
        "outputId": "48c18b4d-f97a-4ac0-c9d3-ad52b93ac6a3"
      },
      "execution_count": 54,
      "outputs": [
        {
          "output_type": "stream",
          "name": "stdout",
          "text": [
            "100\n"
          ]
        }
      ]
    }
  ]
}