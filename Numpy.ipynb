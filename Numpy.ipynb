{
  "nbformat": 4,
  "nbformat_minor": 0,
  "metadata": {
    "colab": {
      "provenance": [],
      "authorship_tag": "ABX9TyNxoAKvg3XIkkXEVvBM0H2w",
      "include_colab_link": true
    },
    "kernelspec": {
      "name": "python3",
      "display_name": "Python 3"
    },
    "language_info": {
      "name": "python"
    }
  },
  "cells": [
    {
      "cell_type": "markdown",
      "metadata": {
        "id": "view-in-github",
        "colab_type": "text"
      },
      "source": [
        "<a href=\"https://colab.research.google.com/github/ToluSh/Classwork/blob/main/Numpy.ipynb\" target=\"_parent\"><img src=\"https://colab.research.google.com/assets/colab-badge.svg\" alt=\"Open In Colab\"/></a>"
      ]
    },
    {
      "cell_type": "code",
      "execution_count": 1,
      "metadata": {
        "colab": {
          "base_uri": "https://localhost:8080/"
        },
        "id": "ym-lhcMJyHXs",
        "outputId": "ababd514-457f-4ec0-e25a-1c444ee9f13d"
      },
      "outputs": [
        {
          "output_type": "stream",
          "name": "stdout",
          "text": [
            "[1, 2, 3, 4, 5, 6]\n"
          ]
        }
      ],
      "source": [
        "import numpy as np\n",
        "x = [1,2,3,4,5,6]\n",
        "y = np.array(x)\n",
        "z = y.tolist()\n",
        "print(z)"
      ]
    },
    {
      "cell_type": "code",
      "source": [
        "import numpy as np\n",
        "a = np.random.randint(2,4,size=(3,4))\n",
        "b = np.trace(a)\n",
        "print(b)"
      ],
      "metadata": {
        "colab": {
          "base_uri": "https://localhost:8080/"
        },
        "id": "z-f7s3Kq0Vx7",
        "outputId": "00ce0614-d3c4-4330-ce88-bc09cb0ee9be"
      },
      "execution_count": 2,
      "outputs": [
        {
          "output_type": "stream",
          "name": "stdout",
          "text": [
            "6\n"
          ]
        }
      ]
    },
    {
      "cell_type": "code",
      "source": [
        "import numpy as np\n",
        "a = [[1,2],[3,5]]\n",
        "b = np.array(a)\n",
        "x = 2\n",
        "for i in b:\n",
        "    if b.any() > x:\n",
        "        print(b.any())\n",
        "    else:\n",
        "        print(\"\")\n",
        "print(i)"
      ],
      "metadata": {
        "colab": {
          "base_uri": "https://localhost:8080/"
        },
        "id": "C2SqAQPDO6MQ",
        "outputId": "fa583d0c-3a93-418d-bc87-9c423e7acd8a"
      },
      "execution_count": 39,
      "outputs": [
        {
          "output_type": "stream",
          "name": "stdout",
          "text": [
            "\n",
            "\n",
            "[3 5]\n"
          ]
        }
      ]
    },
    {
      "cell_type": "code",
      "source": [
        "import numpy as np\n",
        "c = [[1,2],[3,5]]\n",
        "c = np.array(c)\n",
        "d = [[3,4],[5,6]]\n",
        "d = np.array(d)\n",
        "f = np.add(c,d)\n",
        "print(f)"
      ],
      "metadata": {
        "colab": {
          "base_uri": "https://localhost:8080/"
        },
        "id": "_TnZzDKV8QCh",
        "outputId": "e862dd09-9d21-43af-a6ca-1b5e5c71e0a5"
      },
      "execution_count": 4,
      "outputs": [
        {
          "output_type": "stream",
          "name": "stdout",
          "text": [
            "[[ 4  6]\n",
            " [ 8 11]]\n"
          ]
        }
      ]
    },
    {
      "cell_type": "code",
      "source": [
        "import numpy as np\n",
        "e = [[1,2],[3,5]]\n",
        "e = np.array(e)\n",
        "u = [[3,4],[5,6]]\n",
        "u = np.array(u)\n",
        "m = np.mean(e)\n",
        "n = np.mean(u)\n",
        "j = np.subtract(m,n)\n",
        "print(j)"
      ],
      "metadata": {
        "colab": {
          "base_uri": "https://localhost:8080/"
        },
        "id": "auNur3xA9RLh",
        "outputId": "d4dd857e-e509-43f6-ed2f-5ee7c92ea788"
      },
      "execution_count": 7,
      "outputs": [
        {
          "output_type": "stream",
          "name": "stdout",
          "text": [
            "-1.75\n"
          ]
        }
      ]
    }
  ]
}