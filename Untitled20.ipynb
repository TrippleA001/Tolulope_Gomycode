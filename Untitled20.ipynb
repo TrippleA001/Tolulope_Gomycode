{
  "nbformat": 4,
  "nbformat_minor": 0,
  "metadata": {
    "colab": {
      "provenance": [],
      "authorship_tag": "ABX9TyOXcw7KHMIcgGNw+JqNn0WH",
      "include_colab_link": true
    },
    "kernelspec": {
      "name": "python3",
      "display_name": "Python 3"
    },
    "language_info": {
      "name": "python"
    }
  },
  "cells": [
    {
      "cell_type": "markdown",
      "metadata": {
        "id": "view-in-github",
        "colab_type": "text"
      },
      "source": [
        "<a href=\"https://colab.research.google.com/github/ToluSh/Classwork/blob/main/Untitled20.ipynb\" target=\"_parent\"><img src=\"https://colab.research.google.com/assets/colab-badge.svg\" alt=\"Open In Colab\"/></a>"
      ]
    },
    {
      "cell_type": "code",
      "execution_count": 2,
      "metadata": {
        "colab": {
          "base_uri": "https://localhost:8080/"
        },
        "id": "XTTwg5Z4fS89",
        "outputId": "51eb1e5f-3506-47e0-dabd-98838c18b4b9"
      },
      "outputs": [
        {
          "output_type": "stream",
          "name": "stdout",
          "text": [
            "2401\n"
          ]
        }
      ],
      "source": [
        "##**1. What is 7 to the power of 4?**##\n",
        "x = 7\n",
        "y = 4\n",
        "z = x ** y\n",
        "print(z)"
      ]
    },
    {
      "cell_type": "code",
      "source": [
        "##**2. Split this string:\n",
        "##s = \"Hi there Sam!\"\n",
        "##into a list.**##\n",
        "\n",
        "s = \"Hi there Sam!\"\n",
        "s_split = s.split()\n",
        "print(s_split)"
      ],
      "metadata": {
        "colab": {
          "base_uri": "https://localhost:8080/"
        },
        "id": "P32XurpafvwG",
        "outputId": "35183f23-8d1c-48e2-a4e1-7d72ebf29f67"
      },
      "execution_count": 7,
      "outputs": [
        {
          "output_type": "stream",
          "name": "stdout",
          "text": [
            "['Hi', 'there', 'Sam!']\n"
          ]
        }
      ]
    },
    {
      "cell_type": "code",
      "source": [
        "##3. Given the variables:**\n",
        "##planet = \"Earth\"\n",
        "##diameter = 12742\n",
        "##Use .format() to print the following string: **\n",
        "##The diameter of Earth is 12742 kilometers.\n",
        "##planet = \"Earth\"\n",
        "##diameter = 12742\n",
        "\n",
        "planet = \"Earth\"\n",
        "diameter = 12742\n",
        "\n",
        "st_f = \"The diameter of {} is {} kilometers\".format(planet, diameter)\n",
        "print(st_f)"
      ],
      "metadata": {
        "colab": {
          "base_uri": "https://localhost:8080/"
        },
        "id": "lfcJHWfbgWPv",
        "outputId": "bbba17a2-f83f-440c-b37d-d4efa0cc2ab9"
      },
      "execution_count": 8,
      "outputs": [
        {
          "output_type": "stream",
          "name": "stdout",
          "text": [
            "The diameter of Earth is 12742 kilometers\n"
          ]
        }
      ]
    },
    {
      "cell_type": "code",
      "source": [
        "##**4. Given this nested list, use indexing to grab the word \"hello\"**\n",
        "##Code cell <undefined>\n",
        "## %% [code]\n",
        "##lst = [1,2,[3,4],[5,[100,200,['hello']],23,11],1,7]\n",
        "\n",
        "lst = [1,2,[3,4],[5,[100,200,['hello']],23,11],1,7]\n",
        "print(lst[3][1][2])"
      ],
      "metadata": {
        "colab": {
          "base_uri": "https://localhost:8080/"
        },
        "id": "yZrVwRD3hfI5",
        "outputId": "4622f955-3a43-4e58-8fa2-9eeaf7fb0c93"
      },
      "execution_count": 9,
      "outputs": [
        {
          "output_type": "stream",
          "name": "stdout",
          "text": [
            "['hello']\n"
          ]
        }
      ]
    }
  ]
}