{
  "nbformat": 4,
  "nbformat_minor": 0,
  "metadata": {
    "colab": {
      "provenance": [],
      "authorship_tag": "ABX9TyNa7yZl3iw1sx68Z1evf5ji",
      "include_colab_link": true
    },
    "kernelspec": {
      "name": "python3",
      "display_name": "Python 3"
    },
    "language_info": {
      "name": "python"
    }
  },
  "cells": [
    {
      "cell_type": "markdown",
      "metadata": {
        "id": "view-in-github",
        "colab_type": "text"
      },
      "source": [
        "<a href=\"https://colab.research.google.com/github/ToluSh/Classwork/blob/main/WebScrape.ipynb\" target=\"_parent\"><img src=\"https://colab.research.google.com/assets/colab-badge.svg\" alt=\"Open In Colab\"/></a>"
      ]
    },
    {
      "cell_type": "code",
      "execution_count": null,
      "metadata": {
        "id": "donoXgGl3yB9"
      },
      "outputs": [],
      "source": [
        "import requests\n",
        "from bs4 import BeautifulSoup\n",
        "\n",
        "url = \"https://simple.wikipedia.org/wiki/Bola_Tinubu\"\n",
        "page = requests.get(url)\n",
        "soup = BeautifulSoup(page.content, 'html.parser')\n"
      ]
    },
    {
      "cell_type": "code",
      "source": [
        "page_title = soup.find('title')\n",
        "print(page_title)"
      ],
      "metadata": {
        "colab": {
          "base_uri": "https://localhost:8080/"
        },
        "id": "PUFTveLa5L22",
        "outputId": "3f0eda69-9dc0-44c0-a4ce-536db3822da3"
      },
      "execution_count": null,
      "outputs": [
        {
          "output_type": "stream",
          "name": "stdout",
          "text": [
            "<title>Bola Tinubu - Simple English Wikipedia, the free encyclopedia</title>\n"
          ]
        }
      ]
    },
    {
      "cell_type": "code",
      "source": [
        "print(set([text.parent.name for text in soup.find_all(text=True)]))"
      ],
      "metadata": {
        "colab": {
          "base_uri": "https://localhost:8080/"
        },
        "id": "t1ey0W7ZAAic",
        "outputId": "eeffc1ca-c083-4d0b-f59a-5553fb97638a"
      },
      "execution_count": null,
      "outputs": [
        {
          "output_type": "stream",
          "name": "stdout",
          "text": [
            "{'title', 'header', 'ul', 'span', 'head', 'th', 'body', 'form', 'html', 'a', 'li', 'cite', 'label', 'script', 'footer', 'i', 'button', 'td', 'main', 'p', '[document]', 'input', 'div', 'h2', 'nav', 'b', 'style', 'ol'}\n"
          ]
        }
      ]
    },
    {
      "cell_type": "code",
      "source": [
        "y = {}\n",
        "\n",
        "z = soup.find(id=\"Biography\")\n",
        "j = soup.find_all('p')\n",
        "y[z] = j\n",
        "print(y) "
      ],
      "metadata": {
        "id": "8tAI1VqgLQas",
        "colab": {
          "base_uri": "https://localhost:8080/"
        },
        "outputId": "aabd642b-ea0e-4b62-878c-4e2b6cef702e"
      },
      "execution_count": null,
      "outputs": [
        {
          "output_type": "stream",
          "name": "stdout",
          "text": [
            "{<span class=\"mw-headline\" id=\"Biography\">Biography</span>: [<p><b>Bola Ahmed Adekunle Tinubu</b> (born 29 March 1952) is a Nigerian politician and the <a href=\"/wiki/President_of_Nigeria\" title=\"President of Nigeria\">president-elect of Nigeria</a><sup class=\"reference\" id=\"cite_ref-1\"><a href=\"#cite_note-1\">[1]</a></sup>. He was the governor of Lagos State.<sup class=\"reference\" id=\"cite_ref-2\"><a href=\"#cite_note-2\">[2]</a></sup>\n",
            "</p>, <p>Tinubu was born on 29 March 1952 in <a href=\"/wiki/Osun_State\" title=\"Osun State\">Osun State</a>, Nigeria. He did his first school at St. John's Primary School, Aroloya, Lagos and Children's Home School in Ibadan. He studied at Richard J.Daley College in Chicago, Illinois, he was also at Chicago State University in 1975 where he graduated with a Bachelor of Science degree in Accounting in 1979.<sup class=\"reference\" id=\"cite_ref-3\"><a href=\"#cite_note-3\">[3]</a></sup> \n",
            "On June 8, 2022, Tinubu won the presidential primary of the ruling <a class=\"mw-redirect\" href=\"/wiki/All_Progressive_Congress\" title=\"All Progressive Congress\">All Progressive Congress</a> scoring 1271, to defeat Vice President <a href=\"/wiki/Yemi_Osinbajo\" title=\"Yemi Osinbajo\">Yemi Osinbajo</a> and Rotimi Amaechi who scored 235 and 316 respectively.<sup class=\"reference\" id=\"cite_ref-4\"><a href=\"#cite_note-4\">[4]</a></sup>\n",
            "</p>]}\n"
          ]
        }
      ]
    },
    {
      "cell_type": "code",
      "source": [
        "for link in soup.find_all('a'):\n",
        "    print(link.get('href'))"
      ],
      "metadata": {
        "colab": {
          "base_uri": "https://localhost:8080/"
        },
        "id": "94WFZy48OWRk",
        "outputId": "c5267903-3ad1-4d8d-e467-ec778adcbb2b"
      },
      "execution_count": null,
      "outputs": [
        {
          "output_type": "stream",
          "name": "stdout",
          "text": [
            "#bodyContent\n",
            "/wiki/Main_Page\n",
            "/wiki/Special:Search\n",
            "/w/index.php?title=Special:CreateAccount&returnto=Bola+Tinubu\n",
            "/w/index.php?title=Special:UserLogin&returnto=Bola+Tinubu\n",
            "/w/index.php?title=Special:CreateAccount&returnto=Bola+Tinubu\n",
            "/w/index.php?title=Special:UserLogin&returnto=Bola+Tinubu\n",
            "/wiki/Help:Introduction\n",
            "/wiki/Special:MyContributions\n",
            "/wiki/Special:MyTalk\n",
            "/wiki/Main_Page\n",
            "/wiki/Wikipedia:Simple_start\n",
            "/wiki/Wikipedia:Simple_talk\n",
            "/wiki/Special:RecentChanges\n",
            "/wiki/Special:Random\n",
            "/wiki/Help:Contents\n",
            "//simple.wikipedia.org/wiki/Wikipedia:Contact_us\n",
            "//donate.wikimedia.org/wiki/Special:FundraiserRedirector?utm_source=donate&utm_medium=sidebar&utm_campaign=C13_simple.wikipedia.org&uselang=en\n",
            "/wiki/Wikipedia:About\n",
            "/wiki/Special:WhatLinksHere/Bola_Tinubu\n",
            "/wiki/Special:RecentChangesLinked/Bola_Tinubu\n",
            "//commons.wikimedia.org/wiki/Special:UploadWizard\n",
            "/wiki/Special:SpecialPages\n",
            "/w/index.php?title=Bola_Tinubu&oldid=8706579\n",
            "/w/index.php?title=Bola_Tinubu&action=info\n",
            "/w/index.php?title=Special:CiteThisPage&page=Bola_Tinubu&id=8706579&wpFormIdentifier=titleform\n",
            "https://www.wikidata.org/wiki/Special:EntityPage/Q3510872\n",
            "/w/index.php?title=Special:Book&bookcmd=book_creator&referer=Bola+Tinubu\n",
            "/w/index.php?title=Special:DownloadAsPdf&page=Bola_Tinubu&action=show-download-screen\n",
            "/w/index.php?title=Bola_Tinubu&printable=yes\n",
            "https://commons.wikimedia.org/wiki/Category:Bola_Tinubu\n",
            "#p-lang-btn\n",
            "#\n",
            "#Biography\n",
            "#References\n",
            "https://af.wikipedia.org/wiki/Bola_Tinubu\n",
            "https://ar.wikipedia.org/wiki/%D8%A8%D9%88%D9%84%D8%A7_%D8%AA%D9%8A%D9%86%D9%88%D8%A8%D9%88\n",
            "https://ca.wikipedia.org/wiki/Bola_Tinubu\n",
            "https://tum.wikipedia.org/wiki/Bola_Tinubu\n",
            "https://de.wikipedia.org/wiki/Bola_Tinubu\n",
            "https://en.wikipedia.org/wiki/Bola_Tinubu\n",
            "https://es.wikipedia.org/wiki/Bola_Tinubu\n",
            "https://eo.wikipedia.org/wiki/Bola_Tinubu\n",
            "https://fr.wikipedia.org/wiki/Bola_Tinubu\n",
            "https://ff.wikipedia.org/wiki/Bola_Tinubu\n",
            "https://guw.wikipedia.org/wiki/Bola_Tinubu\n",
            "https://ha.wikipedia.org/wiki/Bola_Tinubu\n",
            "https://hi.wikipedia.org/wiki/%E0%A4%AC%E0%A5%8B%E0%A4%B2%E0%A4%BE_%E0%A4%9F%E0%A5%80%E0%A4%A8%E0%A5%82%E0%A4%AC%E0%A5%82\n",
            "https://ig.wikipedia.org/wiki/Bola_Tinubu\n",
            "https://is.wikipedia.org/wiki/Bola_Tinubu\n",
            "https://pcm.wikipedia.org/wiki/Bola_Tinubu\n",
            "https://nl.wikipedia.org/wiki/Bola_Tinubu\n",
            "https://pl.wikipedia.org/wiki/Bola_Tinubu\n",
            "https://pt.wikipedia.org/wiki/Bola_Tinubu\n",
            "https://ru.wikipedia.org/wiki/%D0%A2%D0%B8%D0%BD%D1%83%D0%B1%D1%83,_%D0%91%D0%BE%D0%BB%D0%B0\n",
            "https://kcg.wikipedia.org/wiki/Bola_Tinubu\n",
            "https://yo.wikipedia.org/wiki/Bola_Tinubu\n",
            "https://www.wikidata.org/wiki/Special:EntityPage/Q3510872#sitelinks-wikipedia\n",
            "/wiki/Bola_Tinubu\n",
            "/w/index.php?title=Talk:Bola_Tinubu&action=edit&redlink=1\n",
            "/wiki/Bola_Tinubu\n",
            "/w/index.php?title=Bola_Tinubu&veaction=edit\n",
            "/w/index.php?title=Bola_Tinubu&action=edit\n",
            "/w/index.php?title=Bola_Tinubu&action=history\n",
            "/wiki/Bola_Tinubu\n",
            "/w/index.php?title=Bola_Tinubu&veaction=edit\n",
            "/w/index.php?title=Bola_Tinubu&action=edit\n",
            "/w/index.php?title=Bola_Tinubu&action=history\n",
            "/wiki/Chieftain\n",
            "/wiki/File:Asiwaju_Bola_Ahmed_Tinubu_(5980497975).jpg\n",
            "/wiki/President_of_Nigeria\n",
            "/w/index.php?title=Kashim_Shettima&action=edit&redlink=1\n",
            "/wiki/Muhammadu_Buhari\n",
            "/wiki/List_of_Governors_of_Lagos_State\n",
            "/w/index.php?title=Kofoworola_Bucknor&action=edit&redlink=1\n",
            "/w/index.php?title=Femi_Pedro&action=edit&redlink=1\n",
            "/w/index.php?title=Buba_Marwa&action=edit&redlink=1\n",
            "/wiki/Babatunde_Fashola\n",
            "/wiki/Lagos\n",
            "/wiki/Nigeria\n",
            "/wiki/All_Progressives_Congress\n",
            "/w/index.php?title=Social_Democratic_Party_(Nigeria)&action=edit&redlink=1\n",
            "/w/index.php?title=Alliance_for_Democracy_(Nigeria)&action=edit&redlink=1\n",
            "/w/index.php?title=Action_Congress_of_Nigeria&action=edit&redlink=1\n",
            "/w/index.php?title=Oluremi_Tinubu&action=edit&redlink=1\n",
            "/wiki/Accountant\n",
            "/wiki/Politician\n",
            "/wiki/President_of_Nigeria\n",
            "#cite_note-1\n",
            "#cite_note-2\n",
            "/w/index.php?title=Bola_Tinubu&veaction=edit&section=1\n",
            "/w/index.php?title=Bola_Tinubu&action=edit&section=1\n",
            "/wiki/Osun_State\n",
            "#cite_note-3\n",
            "/wiki/All_Progressive_Congress\n",
            "/wiki/Yemi_Osinbajo\n",
            "#cite_note-4\n",
            "/w/index.php?title=Bola_Tinubu&veaction=edit&section=2\n",
            "/w/index.php?title=Bola_Tinubu&action=edit&section=2\n",
            "#cite_ref-1\n",
            "https://www.premiumtimesng.com/news/headlines/585443-breaking-inec-declares-apcs-bola-tinubu-winner-of-nigerias-presidential-election.html\n",
            "#cite_ref-2\n",
            "https://www.thisdaylive.com/index.php/2020/12/16/2023-tinubu-allies-inaugurate-presidential-campaign-movement-in-ibadan/\n",
            "#cite_ref-3\n",
            "https://www.entrepreneurs.ng/bola-tinubu-biography/\n",
            "#cite_ref-4\n",
            "https://gazettengr.com/breaking-bola-tinubu-jagaban-of-borgu-clinches-apc-presidential-ticket/\n",
            "https://simple.wikipedia.org/w/index.php?title=Bola_Tinubu&oldid=8706579\n",
            "/wiki/Special:Categories\n",
            "/wiki/Category:Politicians_from_Lagos\n",
            "/wiki/Category:1952_births\n",
            "/wiki/Category:Living_people\n",
            "//simple.wikipedia.org/wiki/Wikipedia:Text_of_Creative_Commons_Attribution-ShareAlike_3.0_Unported_License\n",
            "//simple.wikipedia.org/wiki/Wikipedia:Text_of_the_GNU_Free_Documentation_License\n",
            "//wikimediafoundation.org/wiki/Terms_of_Use\n",
            "https://foundation.wikimedia.org/wiki/Privacy_policy\n",
            "/wiki/Wikipedia:About\n",
            "/wiki/Wikipedia:General_disclaimer\n",
            "//simple.m.wikipedia.org/w/index.php?title=Bola_Tinubu&mobileaction=toggle_view_mobile\n",
            "https://developer.wikimedia.org\n",
            "https://stats.wikimedia.org/#/simple.wikipedia.org\n",
            "https://foundation.wikimedia.org/wiki/Cookie_statement\n",
            "https://wikimediafoundation.org/\n",
            "https://www.mediawiki.org/\n"
          ]
        }
      ]
    },
    {
      "cell_type": "code",
      "source": [
        "def func():\n",
        "    d = \"https://yo.wikipedia.org/wiki/Bola_Tinubu\"\n",
        "    print(d)"
      ],
      "metadata": {
        "id": "y1gGFiR_zrAQ"
      },
      "execution_count": 9,
      "outputs": []
    }
  ]
}