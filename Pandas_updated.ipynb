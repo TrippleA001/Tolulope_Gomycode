{
  "nbformat": 4,
  "nbformat_minor": 0,
  "metadata": {
    "colab": {
      "provenance": [],
      "authorship_tag": "ABX9TyPzW3DwATPr3VuvJ/bKo4Fa",
      "include_colab_link": true
    },
    "kernelspec": {
      "name": "python3",
      "display_name": "Python 3"
    },
    "language_info": {
      "name": "python"
    }
  },
  "cells": [
    {
      "cell_type": "markdown",
      "metadata": {
        "id": "view-in-github",
        "colab_type": "text"
      },
      "source": [
        "<a href=\"https://colab.research.google.com/github/ToluSh/Classwork/blob/main/Pandas_updated.ipynb\" target=\"_parent\"><img src=\"https://colab.research.google.com/assets/colab-badge.svg\" alt=\"Open In Colab\"/></a>"
      ]
    },
    {
      "cell_type": "code",
      "execution_count": 27,
      "metadata": {
        "colab": {
          "base_uri": "https://localhost:8080/"
        },
        "id": "YyY7twM8BqnS",
        "outputId": "0c915ab1-e116-4583-d9e7-0c00e59d47ea"
      },
      "outputs": [
        {
          "output_type": "stream",
          "name": "stdout",
          "text": [
            "             name  score  attempts qualify\n",
            "labels                                    \n",
            "a       Anastasia   12.5         1     yes\n",
            "b            Dima    9.0         3      no\n",
            "c       Katherine   16.5         2     yes\n",
            "d           James    NaN         3      no\n",
            "e           Emily    9.0         2      no\n",
            "f         Michael   20.0         3     yes\n",
            "g         Matthew   14.5         1     yes\n",
            "h           Laura    NaN         1      no\n",
            "i           Kevin    8.0         2      no\n",
            "j           Jonas   19.0         1     yes\n"
          ]
        }
      ],
      "source": [
        "import pandas as pd\n",
        "import numpy as np\n",
        "\n",
        "exam_data = {'name': ['Anastasia', 'Dima', 'Katherine', 'James', 'Emily', 'Michael', 'Matthew', 'Laura', 'Kevin', 'Jonas'],\n",
        "'score': [12.5, 9, 16.5, np.nan, 9, 20, 14.5, np.nan, 8, 19],\n",
        "'attempts': [1, 3, 2, 3, 2, 3, 1, 1, 2, 1],\n",
        "'qualify': ['yes', 'no', 'yes', 'no', 'no', 'yes', 'yes', 'no', 'no', 'yes'],\n",
        "'labels' : ['a', 'b', 'c', 'd', 'e', 'f', 'g', 'h', 'i', 'j']}\n",
        "\n",
        "exam_data_df = pd.DataFrame(exam_data) #to obtain dictionary on dataframe datasructure\n",
        "exam_data_index = exam_data_df.set_index('labels') #to set index to labels\n",
        "print(exam_data_index)"
      ]
    },
    {
      "cell_type": "code",
      "source": [
        "exam_data_getrows = exam_data_df.head(-7) #to obtain 3 rows\n",
        "print(exam_data_getrows)"
      ],
      "metadata": {
        "id": "Hp2yHOr69YBX",
        "outputId": "cd084f96-c8dc-48a0-f2da-d90340f275da",
        "colab": {
          "base_uri": "https://localhost:8080/"
        }
      },
      "execution_count": 28,
      "outputs": [
        {
          "output_type": "stream",
          "name": "stdout",
          "text": [
            "        name  score  attempts qualify labels\n",
            "0  Anastasia   12.5         1     yes      a\n",
            "1       Dima    9.0         3      no      b\n",
            "2  Katherine   16.5         2     yes      c\n"
          ]
        }
      ]
    },
    {
      "cell_type": "code",
      "source": [
        "exam_data_nonan = exam_data_index.dropna() #to drop rows with nan score\n",
        "print(exam_data_nonan)"
      ],
      "metadata": {
        "id": "sUQrzjdI9pO2",
        "outputId": "0b062c82-c551-4d0a-c47f-d4af3f9fa37f",
        "colab": {
          "base_uri": "https://localhost:8080/"
        }
      },
      "execution_count": 34,
      "outputs": [
        {
          "output_type": "stream",
          "name": "stdout",
          "text": [
            "             name  score  attempts qualify\n",
            "labels                                    \n",
            "a       Anastasia   12.5         1     yes\n",
            "b            Dima    9.0         3      no\n",
            "c       Katherine   16.5         2     yes\n",
            "e           Emily    9.0         2      no\n",
            "f         Michael   20.0         3     yes\n",
            "g         Matthew   14.5         1     yes\n",
            "i           Kevin    8.0         2      no\n",
            "j           Jonas   19.0         1     yes\n"
          ]
        }
      ]
    },
    {
      "cell_type": "code",
      "source": [
        "exam_data_extract = exam_data_nonan.iloc[:,0:2] #to extract new columns\n",
        "print(exam_data_extract)"
      ],
      "metadata": {
        "id": "b83RYkIs90eE",
        "outputId": "0c9c7227-8b19-43a9-96f5-4c2a97584abe",
        "colab": {
          "base_uri": "https://localhost:8080/"
        }
      },
      "execution_count": 39,
      "outputs": [
        {
          "output_type": "stream",
          "name": "stdout",
          "text": [
            "             name  score\n",
            "labels                  \n",
            "a       Anastasia   12.5\n",
            "b            Dima    9.0\n",
            "c       Katherine   16.5\n",
            "e           Emily    9.0\n",
            "f         Michael   20.0\n",
            "g         Matthew   14.5\n",
            "i           Kevin    8.0\n",
            "j           Jonas   19.0\n"
          ]
        }
      ]
    },
    {
      "cell_type": "code",
      "source": [
        "exam_data2 = {'name': ['Suresh'], 'score': [15.5], 'attempts': [1], 'qualify': ['yes']} #to add new dat\n",
        "exam_data_index2 = pd.DataFrame(exam_data2)\n",
        "new_exam_data_index = pd.concat([exam_data_nonan, exam_data_index2]) #to concatenate 2 dataframes\n",
        "print(new_exam_data_index)"
      ],
      "metadata": {
        "id": "DYehIU4I95bq",
        "outputId": "7b4ea3b1-a429-4900-d9f6-58bdaedf2666",
        "colab": {
          "base_uri": "https://localhost:8080/"
        }
      },
      "execution_count": 40,
      "outputs": [
        {
          "output_type": "stream",
          "name": "stdout",
          "text": [
            "        name  score  attempts qualify\n",
            "a  Anastasia   12.5         1     yes\n",
            "b       Dima    9.0         3      no\n",
            "c  Katherine   16.5         2     yes\n",
            "e      Emily    9.0         2      no\n",
            "f    Michael   20.0         3     yes\n",
            "g    Matthew   14.5         1     yes\n",
            "i      Kevin    8.0         2      no\n",
            "j      Jonas   19.0         1     yes\n",
            "0     Suresh   15.5         1     yes\n"
          ]
        }
      ]
    },
    {
      "cell_type": "code",
      "source": [
        "exam_data_remove = new_exam_data_index.drop('attempts', axis ='columns')\n",
        "print(exam_data_remove)"
      ],
      "metadata": {
        "id": "sDGaacDg9-ul",
        "outputId": "48b3a8fb-678d-440a-f302-69dc8a1b25df",
        "colab": {
          "base_uri": "https://localhost:8080/"
        }
      },
      "execution_count": 41,
      "outputs": [
        {
          "output_type": "stream",
          "name": "stdout",
          "text": [
            "        name  score qualify\n",
            "a  Anastasia   12.5     yes\n",
            "b       Dima    9.0      no\n",
            "c  Katherine   16.5     yes\n",
            "e      Emily    9.0      no\n",
            "f    Michael   20.0     yes\n",
            "g    Matthew   14.5     yes\n",
            "i      Kevin    8.0      no\n",
            "j      Jonas   19.0     yes\n",
            "0     Suresh   15.5     yes\n"
          ]
        }
      ]
    },
    {
      "cell_type": "code",
      "source": [
        "z = new_exam_data_index['score']\n",
        "Success = [] #to create a list for Success column\n",
        "\n",
        "for i in z:\n",
        "    if i > 10:\n",
        "        Success.append(1) #to append 1 or 0 into Success\n",
        "    else:\n",
        "        Success.append(0) \n",
        "print(Success)"
      ],
      "metadata": {
        "id": "eUPZwNLO-Efh",
        "outputId": "3dc2ef84-7f59-4d47-e655-10857f6ae3c4",
        "colab": {
          "base_uri": "https://localhost:8080/"
        }
      },
      "execution_count": 46,
      "outputs": [
        {
          "output_type": "stream",
          "name": "stdout",
          "text": [
            "[1, 0, 1, 0, 1, 1, 0, 1, 1]\n"
          ]
        }
      ]
    },
    {
      "cell_type": "code",
      "source": [
        "new_exam_data_index['Success'] = Success\n",
        "print(new_exam_data_index)"
      ],
      "metadata": {
        "id": "_SVmvI-fLERp",
        "outputId": "ff958afe-af48-4f6f-b0a0-47273de4d763",
        "colab": {
          "base_uri": "https://localhost:8080/"
        }
      },
      "execution_count": 47,
      "outputs": [
        {
          "output_type": "stream",
          "name": "stdout",
          "text": [
            "        name  score  attempts qualify  Success\n",
            "a  Anastasia   12.5         1     yes        1\n",
            "b       Dima    9.0         3      no        0\n",
            "c  Katherine   16.5         2     yes        1\n",
            "e      Emily    9.0         2      no        0\n",
            "f    Michael   20.0         3     yes        1\n",
            "g    Matthew   14.5         1     yes        1\n",
            "i      Kevin    8.0         2      no        0\n",
            "j      Jonas   19.0         1     yes        1\n",
            "0     Suresh   15.5         1     yes        1\n"
          ]
        }
      ]
    },
    {
      "cell_type": "code",
      "source": [
        "new_exam_data_index4.to_csv(\"my_data.csv\")\n",
        "new_data = pd.read_csv(\"my_data.csv\")"
      ],
      "metadata": {
        "id": "UbckxNnj-OOP"
      },
      "execution_count": 10,
      "outputs": []
    },
    {
      "cell_type": "code",
      "source": [
        "new_exam_data_index.info()"
      ],
      "metadata": {
        "id": "HEaYaq8f_bzJ",
        "outputId": "b1a3fa0d-6e5b-4c52-d552-3747277db49d",
        "colab": {
          "base_uri": "https://localhost:8080/"
        }
      },
      "execution_count": 14,
      "outputs": [
        {
          "output_type": "stream",
          "name": "stdout",
          "text": [
            "<class 'pandas.core.frame.DataFrame'>\n",
            "Index: 11 entries, a to 0\n",
            "Data columns (total 4 columns):\n",
            " #   Column    Non-Null Count  Dtype \n",
            "---  ------    --------------  ----- \n",
            " 0   name      11 non-null     object\n",
            " 1   score     11 non-null     object\n",
            " 2   attempts  11 non-null     int64 \n",
            " 3   qualify   11 non-null     object\n",
            "dtypes: int64(1), object(3)\n",
            "memory usage: 740.0+ bytes\n"
          ]
        }
      ]
    }
  ]
}